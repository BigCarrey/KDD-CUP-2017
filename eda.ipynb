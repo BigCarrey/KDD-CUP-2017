{
 "cells": [
  {
   "cell_type": "code",
   "execution_count": 1,
   "metadata": {
    "collapsed": false,
    "deletable": true,
    "editable": true
   },
   "outputs": [],
   "source": [
    "import pandas as pd \n",
    "import glob\n",
    "t3 = pd.read_csv('dataSets/training/links (table 3).csv')\n",
    "t4 = pd.read_csv('dataSets/training/routes (table 4).csv')\n",
    "t5 = pd.read_csv('dataSets/training/trajectories(table 5)_training.csv')\n",
    "t6 = pd.read_csv(glob.glob(\"dataSets/training/*.csv\")[-1])\n",
    "t7 = pd.read_csv(glob.glob(\"dataSets/training/*.csv\")[0])"
   ]
  },
  {
   "cell_type": "markdown",
   "metadata": {
    "deletable": true,
    "editable": true
   },
   "source": [
    "### 特征猜想\n",
    "\n",
    "#### 每个20分钟时间段时每条路线平均耗时\n",
    "\n",
    "1. 路途情况：路程，路宽度，车道数，车道宽度，前方有无交叉路口（如 out_top = 122,116 前方是编号122和116两条路径）\n",
    "2. 天气状况：t7的所有数据\n",
    "3. 同行车辆数量：该20分钟车辆数，前20分钟车辆数，前40分钟车辆数，前60分钟车辆数\n",
    "4. 时间日期数据：是否节假日，星期几，时间点\n",
    "\n",
    "#### 高速路口车流量\n",
    "\n",
    "1. 天气，2小时1小时前进入路线的车辆数，日期，通往高速路口路线的路况\n"
   ]
  },
  {
   "cell_type": "code",
   "execution_count": 2,
   "metadata": {
    "collapsed": false,
    "deletable": true,
    "editable": true
   },
   "outputs": [],
   "source": [
    "# t4 拆开http://stackoverflow.com/questions/32468402/how-to-explode-a-list-inside-a-dataframe-cell-into-separate-rows\n",
    "\n",
    "def split(str): return str.split(\",\")\n",
    "t4.link_seq = t4.link_seq.apply(split)"
   ]
  },
  {
   "cell_type": "code",
   "execution_count": 3,
   "metadata": {
    "collapsed": false,
    "deletable": true,
    "editable": true
   },
   "outputs": [],
   "source": [
    "rows = []\n",
    "_ = t4.apply(lambda row: [rows.append([row['intersection_id'], row['tollgate_id'], nn]) \n",
    "                         for nn in row.link_seq], axis=1)\n",
    "\n",
    "col = ['intersection_id', 'tollgate_id','link_id']\n",
    "t4_new = pd.DataFrame(rows, columns=col)"
   ]
  },
  {
   "cell_type": "code",
   "execution_count": 4,
   "metadata": {
    "collapsed": false,
    "deletable": true,
    "editable": true
   },
   "outputs": [],
   "source": [
    "t3['link_id'] = t3['link_id'].astype(str)\n",
    "t4_new['link_id'] = t4_new['link_id'].astype(str)\n"
   ]
  },
  {
   "cell_type": "code",
   "execution_count": 5,
   "metadata": {
    "collapsed": false,
    "deletable": true,
    "editable": true
   },
   "outputs": [],
   "source": [
    "# pd.merge(t4_new,t3,on = 'link_id',how='left')\n",
    "# 提取每条link\n",
    "t3['cross_in'] = 0\n",
    "t3['cross_out'] = 0\n",
    "\n",
    "for i, row in t3.iterrows():\n",
    "    if ',' in str(row['in_top']):\n",
    "        t3.loc[i, \"cross_in\"] = 1\n",
    "    if ',' in str(row['out_top']):\n",
    "        t3.loc[i, \"cross_out\"] = 1"
   ]
  },
  {
   "cell_type": "code",
   "execution_count": 6,
   "metadata": {
    "collapsed": false,
    "deletable": true,
    "editable": true
   },
   "outputs": [],
   "source": [
    "t4_new = pd.merge(t4_new,t3,on = 'link_id',how='left')"
   ]
  },
  {
   "cell_type": "code",
   "execution_count": 7,
   "metadata": {
    "collapsed": false,
    "deletable": true,
    "editable": true
   },
   "outputs": [],
   "source": [
    "t4_new.drop(['in_top','out_top'],axis =1,inplace= True)"
   ]
  },
  {
   "cell_type": "markdown",
   "metadata": {
    "deletable": true,
    "editable": true
   },
   "source": [
    "### 各表格统计"
   ]
  },
  {
   "cell_type": "code",
   "execution_count": 8,
   "metadata": {
    "collapsed": false,
    "deletable": true,
    "editable": true
   },
   "outputs": [
    {
     "data": {
      "text/html": [
       "<div>\n",
       "<table border=\"1\" class=\"dataframe\">\n",
       "  <thead>\n",
       "    <tr style=\"text-align: right;\">\n",
       "      <th></th>\n",
       "      <th>length</th>\n",
       "      <th>width</th>\n",
       "      <th>lanes</th>\n",
       "      <th>lane_width</th>\n",
       "      <th>cross_in</th>\n",
       "      <th>cross_out</th>\n",
       "    </tr>\n",
       "  </thead>\n",
       "  <tbody>\n",
       "    <tr>\n",
       "      <th>count</th>\n",
       "      <td>24.000000</td>\n",
       "      <td>24.000000</td>\n",
       "      <td>24.000000</td>\n",
       "      <td>24.0</td>\n",
       "      <td>24.000000</td>\n",
       "      <td>24.000000</td>\n",
       "    </tr>\n",
       "    <tr>\n",
       "      <th>mean</th>\n",
       "      <td>111.666667</td>\n",
       "      <td>6.750000</td>\n",
       "      <td>2.250000</td>\n",
       "      <td>3.0</td>\n",
       "      <td>0.125000</td>\n",
       "      <td>0.125000</td>\n",
       "    </tr>\n",
       "    <tr>\n",
       "      <th>std</th>\n",
       "      <td>74.936882</td>\n",
       "      <td>3.220181</td>\n",
       "      <td>1.073394</td>\n",
       "      <td>0.0</td>\n",
       "      <td>0.337832</td>\n",
       "      <td>0.337832</td>\n",
       "    </tr>\n",
       "    <tr>\n",
       "      <th>min</th>\n",
       "      <td>6.000000</td>\n",
       "      <td>3.000000</td>\n",
       "      <td>1.000000</td>\n",
       "      <td>3.0</td>\n",
       "      <td>0.000000</td>\n",
       "      <td>0.000000</td>\n",
       "    </tr>\n",
       "    <tr>\n",
       "      <th>25%</th>\n",
       "      <td>53.500000</td>\n",
       "      <td>3.000000</td>\n",
       "      <td>1.000000</td>\n",
       "      <td>3.0</td>\n",
       "      <td>0.000000</td>\n",
       "      <td>0.000000</td>\n",
       "    </tr>\n",
       "    <tr>\n",
       "      <th>50%</th>\n",
       "      <td>113.500000</td>\n",
       "      <td>9.000000</td>\n",
       "      <td>3.000000</td>\n",
       "      <td>3.0</td>\n",
       "      <td>0.000000</td>\n",
       "      <td>0.000000</td>\n",
       "    </tr>\n",
       "    <tr>\n",
       "      <th>75%</th>\n",
       "      <td>153.000000</td>\n",
       "      <td>9.000000</td>\n",
       "      <td>3.000000</td>\n",
       "      <td>3.0</td>\n",
       "      <td>0.000000</td>\n",
       "      <td>0.000000</td>\n",
       "    </tr>\n",
       "    <tr>\n",
       "      <th>max</th>\n",
       "      <td>293.000000</td>\n",
       "      <td>12.000000</td>\n",
       "      <td>4.000000</td>\n",
       "      <td>3.0</td>\n",
       "      <td>1.000000</td>\n",
       "      <td>1.000000</td>\n",
       "    </tr>\n",
       "  </tbody>\n",
       "</table>\n",
       "</div>"
      ],
      "text/plain": [
       "           length      width      lanes  lane_width   cross_in  cross_out\n",
       "count   24.000000  24.000000  24.000000        24.0  24.000000  24.000000\n",
       "mean   111.666667   6.750000   2.250000         3.0   0.125000   0.125000\n",
       "std     74.936882   3.220181   1.073394         0.0   0.337832   0.337832\n",
       "min      6.000000   3.000000   1.000000         3.0   0.000000   0.000000\n",
       "25%     53.500000   3.000000   1.000000         3.0   0.000000   0.000000\n",
       "50%    113.500000   9.000000   3.000000         3.0   0.000000   0.000000\n",
       "75%    153.000000   9.000000   3.000000         3.0   0.000000   0.000000\n",
       "max    293.000000  12.000000   4.000000         3.0   1.000000   1.000000"
      ]
     },
     "execution_count": 8,
     "metadata": {},
     "output_type": "execute_result"
    }
   ],
   "source": [
    "t3.describe()"
   ]
  },
  {
   "cell_type": "markdown",
   "metadata": {
    "deletable": true,
    "editable": true
   },
   "source": [
    "#####  link长度6到293，宽度3到12，车道数1到4，车道宽一致，顾车道一样宽，width\t，lanes，\tlane_width\t只需要lanes"
   ]
  },
  {
   "cell_type": "code",
   "execution_count": 9,
   "metadata": {
    "collapsed": false,
    "deletable": true,
    "editable": true
   },
   "outputs": [
    {
     "data": {
      "text/plain": [
       "<matplotlib.axes._subplots.AxesSubplot at 0x7fd2af4e6a10>"
      ]
     },
     "execution_count": 9,
     "metadata": {},
     "output_type": "execute_result"
    },
    {
     "data": {
      "image/png": "[encoded data removed]",
      "text/plain": [
       "<matplotlib.figure.Figure at 0x7fd2af4e6250>"
      ]
     },
     "metadata": {},
     "output_type": "display_data"
    }
   ],
   "source": [
    "%matplotlib inline\n",
    "import seaborn as sns\n",
    "sns.set(color_codes=True)\n",
    "sns.distplot(t5.travel_time, bins=20, kde=False)"
   ]
  },
  {
   "cell_type": "code",
   "execution_count": 10,
   "metadata": {
    "collapsed": false,
    "deletable": true,
    "editable": true
   },
   "outputs": [
    {
     "data": {
      "text/plain": [
       "count    109244.000000\n",
       "mean        106.447486\n",
       "std          71.761686\n",
       "min           9.260000\n",
       "25%          60.230000\n",
       "50%          93.575000\n",
       "75%         134.010000\n",
       "max        6711.110000\n",
       "Name: travel_time, dtype: float64"
      ]
     },
     "execution_count": 10,
     "metadata": {},
     "output_type": "execute_result"
    }
   ],
   "source": [
    "t5.describe().travel_time\n",
    "# 发现平均耗时106分钟，最大却有6711分钟"
   ]
  },
  {
   "cell_type": "code",
   "execution_count": 11,
   "metadata": {
    "collapsed": false,
    "deletable": true,
    "editable": true
   },
   "outputs": [
    {
     "name": "stdout",
     "output_type": "stream",
     "text": [
      "(109244, 6)\n",
      "(227, 6)\n",
      "(34, 6)\n",
      "(5, 6)\n"
     ]
    }
   ],
   "source": [
    "## 看看大于500分钟的次数\n",
    "print t5.shape\n",
    "print t5[t5.travel_time > 500].shape\n",
    "print t5[t5.travel_time > 1000].shape\n",
    "print t5[t5.travel_time > 2000].shape"
   ]
  },
  {
   "cell_type": "code",
   "execution_count": 12,
   "metadata": {
    "collapsed": false,
    "deletable": true,
    "editable": true
   },
   "outputs": [
    {
     "data": {
      "text/plain": [
       "<matplotlib.axes._subplots.AxesSubplot at 0x7fd2aef3d3d0>"
      ]
     },
     "execution_count": 12,
     "metadata": {},
     "output_type": "execute_result"
    },
    {
     "data": {
      "image/png": "[encoded data removed]",
      "text/plain": [
       "<matplotlib.figure.Figure at 0x7fd2aeec5f10>"
      ]
     },
     "metadata": {},
     "output_type": "display_data"
    }
   ],
   "source": [
    "# 1000分钟大约有一天半的时间，应该是outlier ,可能司机在附件的旅馆住了一晚\n",
    "t5_new = t5[t5.travel_time< 500]\n",
    "sns.distplot(t5_new.travel_time, bins=20, kde=False)"
   ]
  },
  {
   "cell_type": "code",
   "execution_count": 13,
   "metadata": {
    "collapsed": false,
    "deletable": true,
    "editable": true
   },
   "outputs": [
    {
     "data": {
      "image/png": "[encoded data removed]",
      "text/plain": [
       "<matplotlib.figure.Figure at 0x7fd2ab628b10>"
      ]
     },
     "metadata": {},
     "output_type": "display_data"
    }
   ],
   "source": [
    "# 不同路线的时间分布\n",
    "\n",
    "g = sns.FacetGrid(t5_new.loc[:,[\"travel_time\",\"intersection_id\",\"tollgate_id\"]], col=\"intersection_id\",  row=\"tollgate_id\")\n",
    "g = g.map(sns.distplot, \"travel_time\")"
   ]
  },
  {
   "cell_type": "code",
   "execution_count": 14,
   "metadata": {
    "collapsed": false,
    "deletable": true,
    "editable": true
   },
   "outputs": [
    {
     "data": {
      "text/html": [
       "<div>\n",
       "<table border=\"1\" class=\"dataframe\">\n",
       "  <thead>\n",
       "    <tr style=\"text-align: right;\">\n",
       "      <th></th>\n",
       "      <th>hour</th>\n",
       "      <th>pressure</th>\n",
       "      <th>sea_pressure</th>\n",
       "      <th>wind_direction</th>\n",
       "      <th>wind_speed</th>\n",
       "      <th>temperature</th>\n",
       "      <th>rel_humidity</th>\n",
       "      <th>precipitation</th>\n",
       "    </tr>\n",
       "  </thead>\n",
       "  <tbody>\n",
       "    <tr>\n",
       "      <th>count</th>\n",
       "      <td>862.000000</td>\n",
       "      <td>862.000000</td>\n",
       "      <td>862.000000</td>\n",
       "      <td>862.000000</td>\n",
       "      <td>862.000000</td>\n",
       "      <td>862.000000</td>\n",
       "      <td>862.000000</td>\n",
       "      <td>862.000000</td>\n",
       "    </tr>\n",
       "    <tr>\n",
       "      <th>mean</th>\n",
       "      <td>10.500000</td>\n",
       "      <td>1003.989675</td>\n",
       "      <td>1008.866937</td>\n",
       "      <td>9449.430394</td>\n",
       "      <td>2.302552</td>\n",
       "      <td>27.400348</td>\n",
       "      <td>73.874710</td>\n",
       "      <td>0.212529</td>\n",
       "    </tr>\n",
       "    <tr>\n",
       "      <th>std</th>\n",
       "      <td>6.867207</td>\n",
       "      <td>5.449206</td>\n",
       "      <td>5.531463</td>\n",
       "      <td>95832.730719</td>\n",
       "      <td>1.215748</td>\n",
       "      <td>4.869077</td>\n",
       "      <td>15.900988</td>\n",
       "      <td>1.385508</td>\n",
       "    </tr>\n",
       "    <tr>\n",
       "      <th>min</th>\n",
       "      <td>0.000000</td>\n",
       "      <td>993.400000</td>\n",
       "      <td>998.200000</td>\n",
       "      <td>0.000000</td>\n",
       "      <td>0.000000</td>\n",
       "      <td>14.100000</td>\n",
       "      <td>25.000000</td>\n",
       "      <td>0.000000</td>\n",
       "    </tr>\n",
       "    <tr>\n",
       "      <th>25%</th>\n",
       "      <td>6.000000</td>\n",
       "      <td>1000.000000</td>\n",
       "      <td>1004.800000</td>\n",
       "      <td>81.000000</td>\n",
       "      <td>1.500000</td>\n",
       "      <td>23.800000</td>\n",
       "      <td>63.000000</td>\n",
       "      <td>0.000000</td>\n",
       "    </tr>\n",
       "    <tr>\n",
       "      <th>50%</th>\n",
       "      <td>10.500000</td>\n",
       "      <td>1002.750000</td>\n",
       "      <td>1007.550000</td>\n",
       "      <td>188.000000</td>\n",
       "      <td>2.000000</td>\n",
       "      <td>27.400000</td>\n",
       "      <td>75.000000</td>\n",
       "      <td>0.000000</td>\n",
       "    </tr>\n",
       "    <tr>\n",
       "      <th>75%</th>\n",
       "      <td>15.000000</td>\n",
       "      <td>1007.000000</td>\n",
       "      <td>1011.900000</td>\n",
       "      <td>295.000000</td>\n",
       "      <td>2.900000</td>\n",
       "      <td>30.800000</td>\n",
       "      <td>87.000000</td>\n",
       "      <td>0.000000</td>\n",
       "    </tr>\n",
       "    <tr>\n",
       "      <th>max</th>\n",
       "      <td>21.000000</td>\n",
       "      <td>1018.400000</td>\n",
       "      <td>1023.500000</td>\n",
       "      <td>999017.000000</td>\n",
       "      <td>7.500000</td>\n",
       "      <td>39.400000</td>\n",
       "      <td>98.000000</td>\n",
       "      <td>27.200000</td>\n",
       "    </tr>\n",
       "  </tbody>\n",
       "</table>\n",
       "</div>"
      ],
      "text/plain": [
       "             hour     pressure  sea_pressure  wind_direction  wind_speed  \\\n",
       "count  862.000000   862.000000    862.000000      862.000000  862.000000   \n",
       "mean    10.500000  1003.989675   1008.866937     9449.430394    2.302552   \n",
       "std      6.867207     5.449206      5.531463    95832.730719    1.215748   \n",
       "min      0.000000   993.400000    998.200000        0.000000    0.000000   \n",
       "25%      6.000000  1000.000000   1004.800000       81.000000    1.500000   \n",
       "50%     10.500000  1002.750000   1007.550000      188.000000    2.000000   \n",
       "75%     15.000000  1007.000000   1011.900000      295.000000    2.900000   \n",
       "max     21.000000  1018.400000   1023.500000   999017.000000    7.500000   \n",
       "\n",
       "       temperature  rel_humidity  precipitation  \n",
       "count   862.000000    862.000000     862.000000  \n",
       "mean     27.400348     73.874710       0.212529  \n",
       "std       4.869077     15.900988       1.385508  \n",
       "min      14.100000     25.000000       0.000000  \n",
       "25%      23.800000     63.000000       0.000000  \n",
       "50%      27.400000     75.000000       0.000000  \n",
       "75%      30.800000     87.000000       0.000000  \n",
       "max      39.400000     98.000000      27.200000  "
      ]
     },
     "execution_count": 14,
     "metadata": {},
     "output_type": "execute_result"
    }
   ],
   "source": [
    "t7.describe()"
   ]
  },
  {
   "cell_type": "markdown",
   "metadata": {
    "deletable": true,
    "editable": true
   },
   "source": [
    "#### 天气数据统计\n",
    "1. 风向数据有几个在999017，可能是记录出错\n",
    "2. 降水量大部分为0,最大为27.2"
   ]
  },
  {
   "cell_type": "markdown",
   "metadata": {
    "deletable": true,
    "editable": true
   },
   "source": [
    "### 数据清洗任务\n",
    "\n",
    "1. 将t4_new聚合，得到各个路径的路途数据：如路程，途径in out 岔路口数,link数，车道数的均值，最小值\n",
    "2. 将聚合所得的路程信息按照 intersection_id\ttollgate_id加入到t5\n",
    "3. 按照时间信息将天气merge到t5"
   ]
  },
  {
   "cell_type": "code",
   "execution_count": 15,
   "metadata": {
    "collapsed": false,
    "deletable": true,
    "editable": true
   },
   "outputs": [],
   "source": [
    "# 聚合t4_new\n",
    "# in out 岔路口数\n",
    "b1 = t4_new[['intersection_id', 'tollgate_id','cross_in']]\\\n",
    "           .groupby(['intersection_id', 'tollgate_id'])\\\n",
    "            .cross_in.sum().reset_index().rename(columns = {'cross_in':'in_link_cross_count'})\n",
    "b2 = t4_new[['intersection_id', 'tollgate_id','cross_out']]\\\n",
    "        .groupby(['intersection_id', 'tollgate_id'])\\\n",
    "        .cross_out.sum().reset_index().rename(columns = {'cross_out':'out_link_cross_count'})\n",
    "road = pd.merge(b1,b2,on =['intersection_id', 'tollgate_id'] ,how='left')"
   ]
  },
  {
   "cell_type": "code",
   "execution_count": 16,
   "metadata": {
    "collapsed": false,
    "deletable": true,
    "editable": true
   },
   "outputs": [],
   "source": [
    "#del b1,b2\n",
    "# 路程\n",
    "b1 = t4_new[['intersection_id', 'tollgate_id','length']].groupby(['intersection_id', 'tollgate_id']).length.sum().reset_index()\n",
    "road = pd.merge(road,b1,on =['intersection_id', 'tollgate_id'] ,how='left')"
   ]
  },
  {
   "cell_type": "code",
   "execution_count": 17,
   "metadata": {
    "collapsed": false,
    "deletable": true,
    "editable": true
   },
   "outputs": [],
   "source": [
    "## 车道数1车道2车道3车道4车道的link数，后期考虑：占总路程的比率\n",
    "# 各个路径的link总数\n",
    "b1 = t4_new[['intersection_id', 'tollgate_id']]\\\n",
    "       .groupby(['intersection_id', 'tollgate_id']).size()\\\n",
    "    .reset_index().rename(columns = {0:'link_count'})\n",
    "road = pd.merge(road,b1,on =['intersection_id', 'tollgate_id'] ,how='left')"
   ]
  },
  {
   "cell_type": "code",
   "execution_count": 18,
   "metadata": {
    "collapsed": false,
    "deletable": true,
    "editable": true
   },
   "outputs": [],
   "source": [
    "# 1,2,3,4车道道路长度\n",
    "b1 = t4_new[t4_new.lanes== 1][['intersection_id', 'tollgate_id','length']]\\\n",
    "       .groupby(['intersection_id', 'tollgate_id']).length.sum()\\\n",
    "    .reset_index().rename(columns = {'length':'1_length'})\n",
    "road = pd.merge(road,b1,on =['intersection_id', 'tollgate_id'] ,how='left')\n",
    "# 2车道数\n",
    "b1 = t4_new[t4_new.lanes== 2][['intersection_id', 'tollgate_id','length']]\\\n",
    "       .groupby(['intersection_id', 'tollgate_id']).length.sum()\\\n",
    "    .reset_index().rename(columns = {'length':'2_length'})\n",
    "road = pd.merge(road,b1,on =['intersection_id', 'tollgate_id'] ,how='left')\n",
    "# 3车道数\n",
    "b1 = t4_new[t4_new.lanes== 3][['intersection_id', 'tollgate_id','length']]\\\n",
    "       .groupby(['intersection_id', 'tollgate_id']).length.sum()\\\n",
    "    .reset_index().rename(columns = {'length':'3_length'})\n",
    "road = pd.merge(road,b1,on =['intersection_id', 'tollgate_id'] ,how='left')\n",
    "# 4车道数\n",
    "b1 = t4_new[t4_new.lanes== 4][['intersection_id', 'tollgate_id','length']]\\\n",
    "       .groupby(['intersection_id', 'tollgate_id']).length.sum()\\\n",
    "    .reset_index().rename(columns = {'length':'4_length'})\n",
    "road = pd.merge(road,b1,on =['intersection_id', 'tollgate_id'] ,how='left')\n"
   ]
  },
  {
   "cell_type": "code",
   "execution_count": 19,
   "metadata": {
    "collapsed": false,
    "deletable": true,
    "editable": true
   },
   "outputs": [],
   "source": [
    "## 1,2,3,4车道link数\n",
    "b1 = t4_new[t4_new.lanes== 1][['intersection_id', 'tollgate_id']]\\\n",
    "       .groupby(['intersection_id', 'tollgate_id']).size()\\\n",
    "    .reset_index().rename(columns = {0:'1_count'})\n",
    "road = pd.merge(road,b1,on =['intersection_id', 'tollgate_id'] ,how='left')\n",
    "# 2车道数\n",
    "b1 = t4_new[t4_new.lanes== 2][['intersection_id', 'tollgate_id']]\\\n",
    "       .groupby(['intersection_id', 'tollgate_id']).size()\\\n",
    "    .reset_index().rename(columns = {0:'2_count'})\n",
    "road = pd.merge(road,b1,on =['intersection_id', 'tollgate_id'] ,how='left')\n",
    "# 3车道数\n",
    "b1 = t4_new[t4_new.lanes== 3][['intersection_id', 'tollgate_id']]\\\n",
    "       .groupby(['intersection_id', 'tollgate_id']).size()\\\n",
    "    .reset_index().rename(columns = {0:'3_count'})\n",
    "road = pd.merge(road,b1,on =['intersection_id', 'tollgate_id'] ,how='left')\n",
    "# 4车道数\n",
    "b1 = t4_new[t4_new.lanes== 4][['intersection_id', 'tollgate_id']]\\\n",
    "       .groupby(['intersection_id', 'tollgate_id']).size()\\\n",
    "    .reset_index().rename(columns = {0:'4_count'})\n",
    "road = pd.merge(road,b1,on =['intersection_id', 'tollgate_id'] ,how='left')\n",
    "\n",
    "road.fillna(0,inplace=True)\n"
   ]
  },
  {
   "cell_type": "code",
   "execution_count": 20,
   "metadata": {
    "collapsed": false,
    "deletable": true,
    "editable": true
   },
   "outputs": [],
   "source": [
    "# 按照时间窗口重组数据: http://stackoverflow.com/questions/36914892/python-how-to-group-pandas-data-frame-in-a-certain-time-window\n",
    "t5['starting_time'] =  pd.to_datetime(t5['starting_time'] , format='%Y-%m-%d %H:%M:%S')\n",
    "t5 = t5.set_index(['starting_time'])\n",
    "b1 = t5.groupby([pd.TimeGrouper('20Min'), 'intersection_id', 'tollgate_id']).size()\\\n",
    "       .reset_index().rename(columns = {0:'vehicle_count'})\n",
    "b2 = t5.groupby([pd.TimeGrouper('20Min'), 'intersection_id', 'tollgate_id']).travel_time.mean()\\\n",
    "       .reset_index().rename(columns = {'travel_time':'avg_travel_time'})\n"
   ]
  },
  {
   "cell_type": "code",
   "execution_count": 21,
   "metadata": {
    "collapsed": false,
    "deletable": true,
    "editable": true
   },
   "outputs": [],
   "source": [
    "t5_new = pd.merge(b1,b2,on = ['starting_time','intersection_id', 'tollgate_id'])"
   ]
  },
  {
   "cell_type": "code",
   "execution_count": 22,
   "metadata": {
    "collapsed": false,
    "deletable": true,
    "editable": true
   },
   "outputs": [],
   "source": [
    "t5_new.rename(columns = {'starting_time':'time_window'},inplace=True)"
   ]
  },
  {
   "cell_type": "code",
   "execution_count": 23,
   "metadata": {
    "collapsed": false,
    "deletable": true,
    "editable": true
   },
   "outputs": [
    {
     "data": {
      "text/plain": [
       "<matplotlib.axes._subplots.AxesSubplot at 0x7fd2ab0a5910>"
      ]
     },
     "execution_count": 23,
     "metadata": {},
     "output_type": "execute_result"
    },
    {
     "data": {
      "image/png": "[encoded data removed]",
      "text/plain": [
       "<matplotlib.figure.Figure at 0x7fd2aaf91710>"
      ]
     },
     "metadata": {},
     "output_type": "display_data"
    }
   ],
   "source": [
    "sns.distplot(t5_new.vehicle_count, bins=50, kde=False)"
   ]
  },
  {
   "cell_type": "code",
   "execution_count": 24,
   "metadata": {
    "collapsed": false,
    "deletable": true,
    "editable": true
   },
   "outputs": [
    {
     "data": {
      "image/png": "[encoded data removed]",
      "text/plain": [
       "<matplotlib.figure.Figure at 0x7fd2aa74cc90>"
      ]
     },
     "metadata": {},
     "output_type": "display_data"
    }
   ],
   "source": [
    "## 各条路线20分钟出发车辆数分布\n",
    "g = sns.FacetGrid(t5_new.loc[:,[\"vehicle_count\",\"intersection_id\",\"tollgate_id\"]], col=\"intersection_id\",  row=\"tollgate_id\")\n",
    "g = g.map(sns.distplot, \"vehicle_count\")\n"
   ]
  },
  {
   "cell_type": "code",
   "execution_count": 25,
   "metadata": {
    "collapsed": false,
    "deletable": true,
    "editable": true
   },
   "outputs": [],
   "source": [
    "t5, t5_new = t5_new,t5\n",
    "del t5_new"
   ]
  },
  {
   "cell_type": "code",
   "execution_count": 28,
   "metadata": {
    "collapsed": false,
    "deletable": true,
    "editable": true
   },
   "outputs": [],
   "source": [
    "# 给t5提取新列date hour ,以便merge数据\n",
    "#ref: http://stackoverflow.com/questions/25789445/pandas-make-new-column-from-string-slice-of-another-column\n",
    "t5['hour'] = t5.time_window.dt.hour.astype(int)\n",
    "# 以备后续\n",
    "t5['hour_to_use'] = t5['hour']\n",
    "t5['date'] = t5.time_window.dt.date.astype(str)"
   ]
  },
  {
   "cell_type": "code",
   "execution_count": 29,
   "metadata": {
    "collapsed": false,
    "deletable": true,
    "editable": true
   },
   "outputs": [
    {
     "data": {
      "text/html": [
       "<div>\n",
       "<table border=\"1\" class=\"dataframe\">\n",
       "  <thead>\n",
       "    <tr style=\"text-align: right;\">\n",
       "      <th></th>\n",
       "      <th>time_window</th>\n",
       "      <th>intersection_id</th>\n",
       "      <th>tollgate_id</th>\n",
       "      <th>vehicle_count</th>\n",
       "      <th>avg_travel_time</th>\n",
       "      <th>hour</th>\n",
       "      <th>hour_to_use</th>\n",
       "      <th>date</th>\n",
       "    </tr>\n",
       "  </thead>\n",
       "  <tbody>\n",
       "    <tr>\n",
       "      <th>0</th>\n",
       "      <td>2016-07-19 00:00:00</td>\n",
       "      <td>B</td>\n",
       "      <td>3</td>\n",
       "      <td>1</td>\n",
       "      <td>70.85</td>\n",
       "      <td>0</td>\n",
       "      <td>0</td>\n",
       "      <td>2016-07-19</td>\n",
       "    </tr>\n",
       "    <tr>\n",
       "      <th>1</th>\n",
       "      <td>2016-07-19 00:20:00</td>\n",
       "      <td>A</td>\n",
       "      <td>2</td>\n",
       "      <td>1</td>\n",
       "      <td>58.05</td>\n",
       "      <td>0</td>\n",
       "      <td>0</td>\n",
       "      <td>2016-07-19</td>\n",
       "    </tr>\n",
       "    <tr>\n",
       "      <th>2</th>\n",
       "      <td>2016-07-19 00:20:00</td>\n",
       "      <td>B</td>\n",
       "      <td>1</td>\n",
       "      <td>1</td>\n",
       "      <td>79.76</td>\n",
       "      <td>0</td>\n",
       "      <td>0</td>\n",
       "      <td>2016-07-19</td>\n",
       "    </tr>\n",
       "    <tr>\n",
       "      <th>3</th>\n",
       "      <td>2016-07-19 00:20:00</td>\n",
       "      <td>B</td>\n",
       "      <td>3</td>\n",
       "      <td>1</td>\n",
       "      <td>148.79</td>\n",
       "      <td>0</td>\n",
       "      <td>0</td>\n",
       "      <td>2016-07-19</td>\n",
       "    </tr>\n",
       "    <tr>\n",
       "      <th>4</th>\n",
       "      <td>2016-07-19 00:40:00</td>\n",
       "      <td>B</td>\n",
       "      <td>1</td>\n",
       "      <td>1</td>\n",
       "      <td>137.98</td>\n",
       "      <td>0</td>\n",
       "      <td>0</td>\n",
       "      <td>2016-07-19</td>\n",
       "    </tr>\n",
       "  </tbody>\n",
       "</table>\n",
       "</div>"
      ],
      "text/plain": [
       "          time_window intersection_id  tollgate_id  vehicle_count  \\\n",
       "0 2016-07-19 00:00:00               B            3              1   \n",
       "1 2016-07-19 00:20:00               A            2              1   \n",
       "2 2016-07-19 00:20:00               B            1              1   \n",
       "3 2016-07-19 00:20:00               B            3              1   \n",
       "4 2016-07-19 00:40:00               B            1              1   \n",
       "\n",
       "   avg_travel_time  hour  hour_to_use        date  \n",
       "0            70.85     0            0  2016-07-19  \n",
       "1            58.05     0            0  2016-07-19  \n",
       "2            79.76     0            0  2016-07-19  \n",
       "3           148.79     0            0  2016-07-19  \n",
       "4           137.98     0            0  2016-07-19  "
      ]
     },
     "execution_count": 29,
     "metadata": {},
     "output_type": "execute_result"
    }
   ],
   "source": [
    "# 将 hour调到range(0,24,3)\n",
    "for i, row in t5.iterrows():\n",
    "    if row['hour'] in [23,0,1]: t5.loc[i, \"hour\"] = 0\n",
    "    elif row['hour'] in [2,3,4]: t5.loc[i, \"hour\"] = 3 \n",
    "    elif row['hour'] in [5,6,7]: t5.loc[i, \"hour\"] = 6         \n",
    "    elif row['hour'] in [8,9,10]: t5.loc[i, \"hour\"] = 9         \n",
    "    elif row['hour'] in [11,12,13]: t5.loc[i, \"hour\"] = 12         \n",
    "    elif row['hour'] in [14,15,16]: t5.loc[i, \"hour\"] = 15         \n",
    "    elif row['hour'] in [17,18,19]: t5.loc[i, \"hour\"] = 18         \n",
    "    elif row['hour'] in [20,21,22]: t5.loc[i, \"hour\"] = 21         \n",
    "t5.head()        \n",
    "        "
   ]
  },
  {
   "cell_type": "code",
   "execution_count": 30,
   "metadata": {
    "collapsed": false,
    "deletable": true,
    "editable": true
   },
   "outputs": [],
   "source": [
    "# 将天气数据，道路数据与t5结合\n",
    "t5 = pd.merge(t5,road,on =['intersection_id', 'tollgate_id'] ,how='left')\n",
    "# 统一数据类型\n",
    "\n",
    "t7['hour'] = t7['hour'].astype(int)\n",
    "t7['date'] = pd.to_datetime(t7['date'], format='%Y-%m-%d')\n",
    "t5['hour'] = t5['hour'].astype(int)\n",
    "t5['date'] = pd.to_datetime(t5['date'], format='%Y-%m-%d')\n",
    "\n",
    "t5 = pd.merge(t5,t7,on =['date', 'hour'] ,how='left')"
   ]
  },
  {
   "cell_type": "code",
   "execution_count": 32,
   "metadata": {
    "collapsed": false,
    "deletable": true,
    "editable": true
   },
   "outputs": [
    {
     "data": {
      "text/plain": [
       "(376, 27)"
      ]
     },
     "execution_count": 32,
     "metadata": {},
     "output_type": "execute_result"
    }
   ],
   "source": [
    "t5[t5.sea_pressure.isnull()].shape"
   ]
  },
  {
   "cell_type": "code",
   "execution_count": 26,
   "metadata": {
    "collapsed": false,
    "deletable": true,
    "editable": true
   },
   "outputs": [
    {
     "data": {
      "text/plain": [
       "(109244, 28)"
      ]
     },
     "execution_count": 26,
     "metadata": {},
     "output_type": "execute_result"
    }
   ],
   "source": [
    "t5.shape"
   ]
  },
  {
   "cell_type": "markdown",
   "metadata": {
    "deletable": true,
    "editable": true
   },
   "source": [
    "## 有大概一千多数据没有天气数据"
   ]
  },
  {
   "cell_type": "code",
   "execution_count": 33,
   "metadata": {
    "collapsed": false,
    "deletable": true,
    "editable": true
   },
   "outputs": [],
   "source": [
    "# 增加星期几\n",
    "t5['weekday'] = t5.time_window.dt.weekday"
   ]
  },
  {
   "cell_type": "code",
   "execution_count": 34,
   "metadata": {
    "collapsed": false,
    "deletable": true,
    "editable": true
   },
   "outputs": [
    {
     "data": {
      "text/html": [
       "<div>\n",
       "<table border=\"1\" class=\"dataframe\">\n",
       "  <thead>\n",
       "    <tr style=\"text-align: right;\">\n",
       "      <th></th>\n",
       "      <th>time_window</th>\n",
       "      <th>intersection_id</th>\n",
       "      <th>tollgate_id</th>\n",
       "      <th>vehicle_count</th>\n",
       "      <th>avg_travel_time</th>\n",
       "      <th>hour</th>\n",
       "      <th>hour_to_use</th>\n",
       "      <th>date</th>\n",
       "      <th>in_link_cross_count</th>\n",
       "      <th>out_link_cross_count</th>\n",
       "      <th>...</th>\n",
       "      <th>rel_humidity</th>\n",
       "      <th>precipitation</th>\n",
       "      <th>weekday</th>\n",
       "      <th>weekday__0</th>\n",
       "      <th>weekday__1</th>\n",
       "      <th>weekday__2</th>\n",
       "      <th>weekday__3</th>\n",
       "      <th>weekday__4</th>\n",
       "      <th>weekday__5</th>\n",
       "      <th>weekday__6</th>\n",
       "    </tr>\n",
       "  </thead>\n",
       "  <tbody>\n",
       "    <tr>\n",
       "      <th>0</th>\n",
       "      <td>2016-07-19 00:00:00</td>\n",
       "      <td>B</td>\n",
       "      <td>3</td>\n",
       "      <td>1</td>\n",
       "      <td>70.85</td>\n",
       "      <td>0</td>\n",
       "      <td>0</td>\n",
       "      <td>2016-07-19</td>\n",
       "      <td>2</td>\n",
       "      <td>1</td>\n",
       "      <td>...</td>\n",
       "      <td>81.0</td>\n",
       "      <td>0.0</td>\n",
       "      <td>1</td>\n",
       "      <td>0</td>\n",
       "      <td>1</td>\n",
       "      <td>0</td>\n",
       "      <td>0</td>\n",
       "      <td>0</td>\n",
       "      <td>0</td>\n",
       "      <td>0</td>\n",
       "    </tr>\n",
       "    <tr>\n",
       "      <th>1</th>\n",
       "      <td>2016-07-19 00:20:00</td>\n",
       "      <td>A</td>\n",
       "      <td>2</td>\n",
       "      <td>1</td>\n",
       "      <td>58.05</td>\n",
       "      <td>0</td>\n",
       "      <td>0</td>\n",
       "      <td>2016-07-19</td>\n",
       "      <td>0</td>\n",
       "      <td>1</td>\n",
       "      <td>...</td>\n",
       "      <td>81.0</td>\n",
       "      <td>0.0</td>\n",
       "      <td>1</td>\n",
       "      <td>0</td>\n",
       "      <td>1</td>\n",
       "      <td>0</td>\n",
       "      <td>0</td>\n",
       "      <td>0</td>\n",
       "      <td>0</td>\n",
       "      <td>0</td>\n",
       "    </tr>\n",
       "    <tr>\n",
       "      <th>2</th>\n",
       "      <td>2016-07-19 00:20:00</td>\n",
       "      <td>B</td>\n",
       "      <td>1</td>\n",
       "      <td>1</td>\n",
       "      <td>79.76</td>\n",
       "      <td>0</td>\n",
       "      <td>0</td>\n",
       "      <td>2016-07-19</td>\n",
       "      <td>2</td>\n",
       "      <td>1</td>\n",
       "      <td>...</td>\n",
       "      <td>81.0</td>\n",
       "      <td>0.0</td>\n",
       "      <td>1</td>\n",
       "      <td>0</td>\n",
       "      <td>1</td>\n",
       "      <td>0</td>\n",
       "      <td>0</td>\n",
       "      <td>0</td>\n",
       "      <td>0</td>\n",
       "      <td>0</td>\n",
       "    </tr>\n",
       "    <tr>\n",
       "      <th>3</th>\n",
       "      <td>2016-07-19 00:20:00</td>\n",
       "      <td>B</td>\n",
       "      <td>3</td>\n",
       "      <td>1</td>\n",
       "      <td>148.79</td>\n",
       "      <td>0</td>\n",
       "      <td>0</td>\n",
       "      <td>2016-07-19</td>\n",
       "      <td>2</td>\n",
       "      <td>1</td>\n",
       "      <td>...</td>\n",
       "      <td>81.0</td>\n",
       "      <td>0.0</td>\n",
       "      <td>1</td>\n",
       "      <td>0</td>\n",
       "      <td>1</td>\n",
       "      <td>0</td>\n",
       "      <td>0</td>\n",
       "      <td>0</td>\n",
       "      <td>0</td>\n",
       "      <td>0</td>\n",
       "    </tr>\n",
       "    <tr>\n",
       "      <th>4</th>\n",
       "      <td>2016-07-19 00:40:00</td>\n",
       "      <td>B</td>\n",
       "      <td>1</td>\n",
       "      <td>1</td>\n",
       "      <td>137.98</td>\n",
       "      <td>0</td>\n",
       "      <td>0</td>\n",
       "      <td>2016-07-19</td>\n",
       "      <td>2</td>\n",
       "      <td>1</td>\n",
       "      <td>...</td>\n",
       "      <td>81.0</td>\n",
       "      <td>0.0</td>\n",
       "      <td>1</td>\n",
       "      <td>0</td>\n",
       "      <td>1</td>\n",
       "      <td>0</td>\n",
       "      <td>0</td>\n",
       "      <td>0</td>\n",
       "      <td>0</td>\n",
       "      <td>0</td>\n",
       "    </tr>\n",
       "  </tbody>\n",
       "</table>\n",
       "<p>5 rows × 35 columns</p>\n",
       "</div>"
      ],
      "text/plain": [
       "          time_window intersection_id  tollgate_id  vehicle_count  \\\n",
       "0 2016-07-19 00:00:00               B            3              1   \n",
       "1 2016-07-19 00:20:00               A            2              1   \n",
       "2 2016-07-19 00:20:00               B            1              1   \n",
       "3 2016-07-19 00:20:00               B            3              1   \n",
       "4 2016-07-19 00:40:00               B            1              1   \n",
       "\n",
       "   avg_travel_time  hour  hour_to_use       date  in_link_cross_count  \\\n",
       "0            70.85     0            0 2016-07-19                    2   \n",
       "1            58.05     0            0 2016-07-19                    0   \n",
       "2            79.76     0            0 2016-07-19                    2   \n",
       "3           148.79     0            0 2016-07-19                    2   \n",
       "4           137.98     0            0 2016-07-19                    2   \n",
       "\n",
       "   out_link_cross_count     ...      rel_humidity  precipitation  weekday  \\\n",
       "0                     1     ...              81.0            0.0        1   \n",
       "1                     1     ...              81.0            0.0        1   \n",
       "2                     1     ...              81.0            0.0        1   \n",
       "3                     1     ...              81.0            0.0        1   \n",
       "4                     1     ...              81.0            0.0        1   \n",
       "\n",
       "   weekday__0  weekday__1  weekday__2  weekday__3  weekday__4  weekday__5  \\\n",
       "0           0           1           0           0           0           0   \n",
       "1           0           1           0           0           0           0   \n",
       "2           0           1           0           0           0           0   \n",
       "3           0           1           0           0           0           0   \n",
       "4           0           1           0           0           0           0   \n",
       "\n",
       "   weekday__6  \n",
       "0           0  \n",
       "1           0  \n",
       "2           0  \n",
       "3           0  \n",
       "4           0  \n",
       "\n",
       "[5 rows x 35 columns]"
      ]
     },
     "execution_count": 34,
     "metadata": {},
     "output_type": "execute_result"
    }
   ],
   "source": [
    "weeks = pd.get_dummies(t5['weekday'],prefix='weekday_')\n",
    "t5 = pd.concat([t5,weeks], axis=1)\n",
    "\n",
    "t5.head()"
   ]
  },
  {
   "cell_type": "code",
   "execution_count": 36,
   "metadata": {
    "collapsed": false,
    "deletable": true,
    "editable": true
   },
   "outputs": [],
   "source": [
    "# 是否假期\n",
    "from datetime import datetime\n",
    "def str_to_dtime(string):\n",
    "    dtime = datetime.strptime(string, \"%Y-%m-%d\")\n",
    "    return dtime\n",
    "# 中秋国庆假期\n",
    "start1 = datetime(2016, 9, 15)\n",
    "end1 = datetime(2016, 9, 17)\n",
    "start2 = datetime(2016, 10, 1)\n",
    "end2 = datetime(2016, 10, 7)\n",
    "rng = pd.date_range(start1, end1).append(pd.date_range(start2, end2))\n"
   ]
  },
  {
   "cell_type": "code",
   "execution_count": 37,
   "metadata": {
    "collapsed": false,
    "deletable": true,
    "editable": true
   },
   "outputs": [],
   "source": [
    "for i, row in t5.iterrows():\n",
    "    if row['date'] in rng : t5.loc[i, \"holoday\"] = 1\n"
   ]
  },
  {
   "cell_type": "code",
   "execution_count": 38,
   "metadata": {
    "collapsed": false,
    "deletable": true,
    "editable": true
   },
   "outputs": [
    {
     "data": {
      "text/plain": [
       "3341.0"
      ]
     },
     "execution_count": 38,
     "metadata": {},
     "output_type": "execute_result"
    }
   ],
   "source": [
    "t5.holoday.sum()"
   ]
  },
  {
   "cell_type": "code",
   "execution_count": 39,
   "metadata": {
    "collapsed": true,
    "deletable": true,
    "editable": true
   },
   "outputs": [],
   "source": [
    "## 增加几点钟信息\n",
    "hours = pd.get_dummies(t5['hour_to_use'],prefix='hour_')\n",
    "t5 = pd.concat([t5,hours], axis=1)\n"
   ]
  },
  {
   "cell_type": "code",
   "execution_count": 43,
   "metadata": {
    "collapsed": false,
    "deletable": true,
    "editable": true
   },
   "outputs": [],
   "source": [
    "t5.drop(['hour','hour_to_use','date'],inplace= True,axis=1)"
   ]
  },
  {
   "cell_type": "code",
   "execution_count": 44,
   "metadata": {
    "collapsed": false,
    "deletable": true,
    "editable": true
   },
   "outputs": [
    {
     "data": {
      "text/html": [
       "<div>\n",
       "<table border=\"1\" class=\"dataframe\">\n",
       "  <thead>\n",
       "    <tr style=\"text-align: right;\">\n",
       "      <th></th>\n",
       "      <th>time_window</th>\n",
       "      <th>intersection_id</th>\n",
       "      <th>tollgate_id</th>\n",
       "      <th>vehicle_count</th>\n",
       "      <th>avg_travel_time</th>\n",
       "      <th>in_link_cross_count</th>\n",
       "      <th>out_link_cross_count</th>\n",
       "      <th>length</th>\n",
       "      <th>link_count</th>\n",
       "      <th>1_length</th>\n",
       "      <th>...</th>\n",
       "      <th>hour__14</th>\n",
       "      <th>hour__15</th>\n",
       "      <th>hour__16</th>\n",
       "      <th>hour__17</th>\n",
       "      <th>hour__18</th>\n",
       "      <th>hour__19</th>\n",
       "      <th>hour__20</th>\n",
       "      <th>hour__21</th>\n",
       "      <th>hour__22</th>\n",
       "      <th>hour__23</th>\n",
       "    </tr>\n",
       "  </thead>\n",
       "  <tbody>\n",
       "    <tr>\n",
       "      <th>0</th>\n",
       "      <td>2016-07-19 00:00:00</td>\n",
       "      <td>B</td>\n",
       "      <td>3</td>\n",
       "      <td>1</td>\n",
       "      <td>70.85</td>\n",
       "      <td>2</td>\n",
       "      <td>1</td>\n",
       "      <td>477</td>\n",
       "      <td>5</td>\n",
       "      <td>255</td>\n",
       "      <td>...</td>\n",
       "      <td>0</td>\n",
       "      <td>0</td>\n",
       "      <td>0</td>\n",
       "      <td>0</td>\n",
       "      <td>0</td>\n",
       "      <td>0</td>\n",
       "      <td>0</td>\n",
       "      <td>0</td>\n",
       "      <td>0</td>\n",
       "      <td>0</td>\n",
       "    </tr>\n",
       "    <tr>\n",
       "      <th>1</th>\n",
       "      <td>2016-07-19 00:20:00</td>\n",
       "      <td>A</td>\n",
       "      <td>2</td>\n",
       "      <td>1</td>\n",
       "      <td>58.05</td>\n",
       "      <td>0</td>\n",
       "      <td>1</td>\n",
       "      <td>384</td>\n",
       "      <td>6</td>\n",
       "      <td>142</td>\n",
       "      <td>...</td>\n",
       "      <td>0</td>\n",
       "      <td>0</td>\n",
       "      <td>0</td>\n",
       "      <td>0</td>\n",
       "      <td>0</td>\n",
       "      <td>0</td>\n",
       "      <td>0</td>\n",
       "      <td>0</td>\n",
       "      <td>0</td>\n",
       "      <td>0</td>\n",
       "    </tr>\n",
       "    <tr>\n",
       "      <th>2</th>\n",
       "      <td>2016-07-19 00:20:00</td>\n",
       "      <td>B</td>\n",
       "      <td>1</td>\n",
       "      <td>1</td>\n",
       "      <td>79.76</td>\n",
       "      <td>2</td>\n",
       "      <td>1</td>\n",
       "      <td>821</td>\n",
       "      <td>9</td>\n",
       "      <td>275</td>\n",
       "      <td>...</td>\n",
       "      <td>0</td>\n",
       "      <td>0</td>\n",
       "      <td>0</td>\n",
       "      <td>0</td>\n",
       "      <td>0</td>\n",
       "      <td>0</td>\n",
       "      <td>0</td>\n",
       "      <td>0</td>\n",
       "      <td>0</td>\n",
       "      <td>0</td>\n",
       "    </tr>\n",
       "    <tr>\n",
       "      <th>3</th>\n",
       "      <td>2016-07-19 00:20:00</td>\n",
       "      <td>B</td>\n",
       "      <td>3</td>\n",
       "      <td>1</td>\n",
       "      <td>148.79</td>\n",
       "      <td>2</td>\n",
       "      <td>1</td>\n",
       "      <td>477</td>\n",
       "      <td>5</td>\n",
       "      <td>255</td>\n",
       "      <td>...</td>\n",
       "      <td>0</td>\n",
       "      <td>0</td>\n",
       "      <td>0</td>\n",
       "      <td>0</td>\n",
       "      <td>0</td>\n",
       "      <td>0</td>\n",
       "      <td>0</td>\n",
       "      <td>0</td>\n",
       "      <td>0</td>\n",
       "      <td>0</td>\n",
       "    </tr>\n",
       "    <tr>\n",
       "      <th>4</th>\n",
       "      <td>2016-07-19 00:40:00</td>\n",
       "      <td>B</td>\n",
       "      <td>1</td>\n",
       "      <td>1</td>\n",
       "      <td>137.98</td>\n",
       "      <td>2</td>\n",
       "      <td>1</td>\n",
       "      <td>821</td>\n",
       "      <td>9</td>\n",
       "      <td>275</td>\n",
       "      <td>...</td>\n",
       "      <td>0</td>\n",
       "      <td>0</td>\n",
       "      <td>0</td>\n",
       "      <td>0</td>\n",
       "      <td>0</td>\n",
       "      <td>0</td>\n",
       "      <td>0</td>\n",
       "      <td>0</td>\n",
       "      <td>0</td>\n",
       "      <td>0</td>\n",
       "    </tr>\n",
       "  </tbody>\n",
       "</table>\n",
       "<p>5 rows × 57 columns</p>\n",
       "</div>"
      ],
      "text/plain": [
       "          time_window intersection_id  tollgate_id  vehicle_count  \\\n",
       "0 2016-07-19 00:00:00               B            3              1   \n",
       "1 2016-07-19 00:20:00               A            2              1   \n",
       "2 2016-07-19 00:20:00               B            1              1   \n",
       "3 2016-07-19 00:20:00               B            3              1   \n",
       "4 2016-07-19 00:40:00               B            1              1   \n",
       "\n",
       "   avg_travel_time  in_link_cross_count  out_link_cross_count  length  \\\n",
       "0            70.85                    2                     1     477   \n",
       "1            58.05                    0                     1     384   \n",
       "2            79.76                    2                     1     821   \n",
       "3           148.79                    2                     1     477   \n",
       "4           137.98                    2                     1     821   \n",
       "\n",
       "   link_count  1_length    ...     hour__14  hour__15  hour__16  hour__17  \\\n",
       "0           5       255    ...            0         0         0         0   \n",
       "1           6       142    ...            0         0         0         0   \n",
       "2           9       275    ...            0         0         0         0   \n",
       "3           5       255    ...            0         0         0         0   \n",
       "4           9       275    ...            0         0         0         0   \n",
       "\n",
       "   hour__18  hour__19  hour__20  hour__21  hour__22  hour__23  \n",
       "0         0         0         0         0         0         0  \n",
       "1         0         0         0         0         0         0  \n",
       "2         0         0         0         0         0         0  \n",
       "3         0         0         0         0         0         0  \n",
       "4         0         0         0         0         0         0  \n",
       "\n",
       "[5 rows x 57 columns]"
      ]
     },
     "execution_count": 44,
     "metadata": {},
     "output_type": "execute_result"
    }
   ],
   "source": [
    "t5.head()"
   ]
  },
  {
   "cell_type": "code",
   "execution_count": 45,
   "metadata": {
    "collapsed": false,
    "deletable": true,
    "editable": true
   },
   "outputs": [],
   "source": [
    "# 保存数据\n",
    "t5.to_pickle('dataSets/training/cleanedtask1data.pkl')"
   ]
  },
  {
   "cell_type": "code",
   "execution_count": 49,
   "metadata": {
    "collapsed": false,
    "deletable": true,
    "editable": true
   },
   "outputs": [
    {
     "data": {
      "text/html": [
       "<div>\n",
       "<table border=\"1\" class=\"dataframe\">\n",
       "  <thead>\n",
       "    <tr style=\"text-align: right;\">\n",
       "      <th></th>\n",
       "      <th>time</th>\n",
       "      <th>tollgate_id</th>\n",
       "      <th>direction</th>\n",
       "      <th>vehicle_model</th>\n",
       "      <th>has_etc</th>\n",
       "      <th>vehicle_type</th>\n",
       "    </tr>\n",
       "  </thead>\n",
       "  <tbody>\n",
       "    <tr>\n",
       "      <th>0</th>\n",
       "      <td>2016-09-19 23:09:25</td>\n",
       "      <td>2</td>\n",
       "      <td>0</td>\n",
       "      <td>1</td>\n",
       "      <td>0</td>\n",
       "      <td>NaN</td>\n",
       "    </tr>\n",
       "    <tr>\n",
       "      <th>1</th>\n",
       "      <td>2016-09-19 23:11:53</td>\n",
       "      <td>2</td>\n",
       "      <td>0</td>\n",
       "      <td>1</td>\n",
       "      <td>0</td>\n",
       "      <td>NaN</td>\n",
       "    </tr>\n",
       "    <tr>\n",
       "      <th>2</th>\n",
       "      <td>2016-09-19 23:13:54</td>\n",
       "      <td>2</td>\n",
       "      <td>0</td>\n",
       "      <td>1</td>\n",
       "      <td>0</td>\n",
       "      <td>NaN</td>\n",
       "    </tr>\n",
       "    <tr>\n",
       "      <th>3</th>\n",
       "      <td>2016-09-19 23:17:48</td>\n",
       "      <td>1</td>\n",
       "      <td>0</td>\n",
       "      <td>1</td>\n",
       "      <td>1</td>\n",
       "      <td>NaN</td>\n",
       "    </tr>\n",
       "    <tr>\n",
       "      <th>4</th>\n",
       "      <td>2016-09-19 23:16:07</td>\n",
       "      <td>2</td>\n",
       "      <td>0</td>\n",
       "      <td>1</td>\n",
       "      <td>0</td>\n",
       "      <td>NaN</td>\n",
       "    </tr>\n",
       "  </tbody>\n",
       "</table>\n",
       "</div>"
      ],
      "text/plain": [
       "                  time  tollgate_id  direction  vehicle_model  has_etc  \\\n",
       "0  2016-09-19 23:09:25            2          0              1        0   \n",
       "1  2016-09-19 23:11:53            2          0              1        0   \n",
       "2  2016-09-19 23:13:54            2          0              1        0   \n",
       "3  2016-09-19 23:17:48            1          0              1        1   \n",
       "4  2016-09-19 23:16:07            2          0              1        0   \n",
       "\n",
       "   vehicle_type  \n",
       "0           NaN  \n",
       "1           NaN  \n",
       "2           NaN  \n",
       "3           NaN  \n",
       "4           NaN  "
      ]
     },
     "execution_count": 49,
     "metadata": {},
     "output_type": "execute_result"
    }
   ],
   "source": [
    "# \n",
    "# 按照时间窗口重组数据: http://stackoverflow.com/questions/36914892/python-how-to-group-pandas-data-frame-in-a-certain-time-window\n",
    "t6['time'] =  pd.to_datetime(t6['time'] , format='%Y-%m-%d %H:%M:%S')\n",
    "a1 = \n",
    "t6 = t6.set_index(['time'])\n",
    "b1 = t6.groupby([pd.TimeGrouper('20Min'), 'directon', 'tollgate_id']).size()\\\n",
    "       .reset_index().rename(columns = {0:'vehicle_count'})\n",
    "b2 = t5.groupby([pd.TimeGrouper('20Min'), 'intersection_id', 'tollgate_id']).travel_time.mean()\\\n",
    "       .reset_index().rename(columns = {'travel_time':'avg_travel_time'})"
   ]
  },
  {
   "cell_type": "code",
   "execution_count": 50,
   "metadata": {
    "collapsed": false,
    "deletable": true,
    "editable": true
   },
   "outputs": [
    {
     "data": {
      "text/plain": [
       "DatetimeIndex(['2016-09-15', '2016-09-16', '2016-09-17', '2016-10-01',\n",
       "               '2016-10-02', '2016-10-03', '2016-10-04', '2016-10-05',\n",
       "               '2016-10-06', '2016-10-07'],\n",
       "              dtype='datetime64[ns]', freq=None)"
      ]
     },
     "execution_count": 50,
     "metadata": {},
     "output_type": "execute_result"
    }
   ],
   "source": [
    "rng"
   ]
  },
  {
   "cell_type": "markdown",
   "metadata": {
    "collapsed": true,
    "deletable": true,
    "editable": true
   },
   "source": [
    "每条路径in_top =2 和out_top =2 岔路口数,\n",
    "\n",
    "\n",
    "路程,\n",
    "\n",
    "路途的路径宽度: 1车道2车道3车道4车道的link数，1车道2车道3车道4车道的长度\n",
    "\n",
    "是否过节,国庆节:'2016-10-01-2016-10-07',中秋节''2016-09-15-2016-09-17''\n",
    "\n",
    "对于缺失天气的填充方案"
   ]
  }
 ],
 "metadata": {
  "kernelspec": {
   "display_name": "Python 2",
   "language": "python",
   "name": "python2"
  },
  "language_info": {
   "codemirror_mode": {
    "name": "ipython",
    "version": 2
   },
   "file_extension": ".py",
   "mimetype": "text/x-python",
   "name": "python",
   "nbconvert_exporter": "python",
   "pygments_lexer": "ipython2",
   "version": "2.7.12"
  }
 },
 "nbformat": 4,
 "nbformat_minor": 2
}
