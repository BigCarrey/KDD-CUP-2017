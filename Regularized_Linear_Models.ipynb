{
 "cells": [
  {
   "cell_type": "markdown",
   "metadata": {
    "deletable": true,
    "editable": true
   },
   "source": [
    "# task1\n",
    "\n",
    "主要参考：https://www.kaggle.com/apapiu/house-prices-advanced-regression-techniques/regularized-linear-models\n"
   ]
  },
  {
   "cell_type": "code",
   "execution_count": 1,
   "metadata": {
    "collapsed": true,
    "deletable": true,
    "editable": true
   },
   "outputs": [],
   "source": [
    "import pandas as pd\n",
    "import numpy as np\n",
    "train = pd.read_csv('dataSets/big_trainset_task1.csv').set_index(['intersection_id','tollgate_id','time_window'])\n",
    "test = pd.read_csv('dataSets/big_testset_task1.csv').set_index(['intersection_id','tollgate_id','time_window'])"
   ]
  },
  {
   "cell_type": "code",
   "execution_count": 2,
   "metadata": {
    "collapsed": true,
    "deletable": true,
    "editable": true
   },
   "outputs": [],
   "source": [
    "X_train = train.drop('avg_travel_time',axis=1).values\n",
    "X_test = test.drop('avg_travel_time',axis=1).values\n",
    "y = train.avg_travel_time.values"
   ]
  },
  {
   "cell_type": "code",
   "execution_count": 3,
   "metadata": {
    "collapsed": false,
    "deletable": true,
    "editable": true
   },
   "outputs": [],
   "source": [
    "del test,train"
   ]
  },
  {
   "cell_type": "code",
   "execution_count": 4,
   "metadata": {
    "collapsed": false,
    "deletable": true,
    "editable": true
   },
   "outputs": [
    {
     "name": "stderr",
     "output_type": "stream",
     "text": [
      "/usr/local/lib/python2.7/dist-packages/sklearn/cross_validation.py:44: DeprecationWarning: This module was deprecated in version 0.18 in favor of the model_selection module into which all the refactored classes and functions are moved. Also note that the interface of the new CV iterators are different from that of this module. This module will be removed in 0.20.\n",
      "  \"This module will be removed in 0.20.\", DeprecationWarning)\n",
      "/usr/local/lib/python2.7/dist-packages/sklearn/grid_search.py:43: DeprecationWarning: This module was deprecated in version 0.18 in favor of the model_selection module into which all the refactored classes and functions are moved. This module will be removed in 0.20.\n",
      "  DeprecationWarning)\n"
     ]
    },
    {
     "name": "stdout",
     "output_type": "stream",
     "text": [
      "[-0.25288691 -0.25552983 -0.25303579 -0.33545167 -0.33789601 -0.22260081\n",
      " -0.22165894 -0.24172606 -0.24010769 -0.23125585]\n"
     ]
    }
   ],
   "source": [
    "# 尝试基本的线性回归及正则化线性回归模型\n",
    "from sklearn.linear_model import LinearRegression\n",
    "from sklearn.linear_model import Lasso\n",
    "from sklearn.linear_model import Ridge\n",
    "from sklearn.linear_model import ElasticNet\n",
    "from sklearn.model_selection import cross_val_score\n",
    "from sklearn.grid_search import GridSearchCV\n",
    "from sklearn.metrics.scorer import make_scorer\n",
    "from sklearn.utils import check_array\n",
    "# 定义评分函数\n",
    "def MAPE(y_true, y_pred):\n",
    "    return np.mean(np.abs((y_true - y_pred) / y_true))\n",
    "score = make_scorer(MAPE, greater_is_better=False)\n",
    "\n",
    "LR = LinearRegression()\n",
    "# Sklearn 计算模型的负均方误差，所以我们需要先取负再开根号得到我们的参数均方根误差\n",
    "# cv = 5 会将数据分成大小相似的10份，轮流用9份用来训练，１份用来评估计算得分，会得到10个得分\n",
    "test_score = cross_val_score(LR, X_train, y, cv=10, scoring=score)\n",
    "print(test_score)"
   ]
  },
  {
   "cell_type": "code",
   "execution_count": 17,
   "metadata": {
    "collapsed": false
   },
   "outputs": [
    {
     "data": {
      "image/png": "[encoded data removed]",
      "text/plain": [
       "<matplotlib.figure.Figure at 0x7f8a401ff690>"
      ]
     },
     "metadata": {},
     "output_type": "display_data"
    }
   ],
   "source": [
    "# ridge回归\n",
    "import seaborn as sns\n",
    "import matplotlib\n",
    "import matplotlib.pyplot as plt\n",
    "%matplotlib inline\n",
    "alphas = np.linspace(75.6, 75.7, 10)\n",
    "test_scores = []\n",
    "for alpha in alphas:\n",
    "    clf = Ridge(alpha)\n",
    "    test_score = cross_val_score(clf, X_train, y, cv=10, scoring=score)\n",
    "    test_scores.append(np.mean(test_score))\n",
    "\n",
    "plt.plot(alphas, test_scores)\n",
    "plt.title(\"Alpha vs MAPE\");"
   ]
  },
  {
   "cell_type": "markdown",
   "metadata": {},
   "source": [
    "#### 模型１：Ridge(76.66) 得分０．２５９０５６４８"
   ]
  },
  {
   "cell_type": "code",
   "execution_count": 26,
   "metadata": {
    "collapsed": false,
    "scrolled": true
   },
   "outputs": [
    {
     "name": "stdout",
     "output_type": "stream",
     "text": [
      "Fitting 5 folds for each of 10 candidates, totalling 50 fits\n",
      "[CV] alpha=0.018 .....................................................\n",
      "[CV] alpha=0.018 .....................................................\n",
      "[CV] alpha=0.018 .....................................................\n",
      "[CV] alpha=0.018 .....................................................\n",
      "[CV] ............................................ alpha=0.018 -   7.8s\n",
      "[CV] alpha=0.018 .....................................................\n",
      "[CV] ............................................ alpha=0.018 -   8.7s\n",
      "[CV] alpha=0.0182222222222 ...........................................\n",
      "[CV] ............................................ alpha=0.018 -   8.7s\n",
      "[CV] ............................................ alpha=0.018 -   8.6s\n",
      "[CV] alpha=0.0182222222222 ...........................................\n",
      "[CV] alpha=0.0182222222222 ...........................................\n",
      "[CV] ............................................ alpha=0.018 -   8.3s\n",
      "[CV] alpha=0.0182222222222 ...........................................\n",
      "[CV] .................................. alpha=0.0182222222222 -   7.9s\n",
      "[CV] alpha=0.0182222222222 ...........................................\n",
      "[CV] .................................. alpha=0.0182222222222 -   8.7s\n",
      "[CV] alpha=0.0184444444444 ...........................................\n",
      "[CV] .................................. alpha=0.0182222222222 -   9.0s\n",
      "[CV] alpha=0.0184444444444 ...........................................\n",
      "[CV] .................................. alpha=0.0182222222222 -   9.0s\n",
      "[CV] alpha=0.0184444444444 ...........................................\n",
      "[CV] .................................. alpha=0.0182222222222 -   9.1s\n",
      "[CV] alpha=0.0184444444444 ...........................................\n",
      "[CV] .................................. alpha=0.0184444444444 -   9.0s\n",
      "[CV] alpha=0.0184444444444 ...........................................\n",
      "[CV] .................................. alpha=0.0184444444444 -   9.0s\n",
      "[CV] alpha=0.0186666666667 ...........................................\n",
      "[CV] .................................. alpha=0.0184444444444 -   8.0s\n",
      "[CV] alpha=0.0186666666667 ...........................................\n",
      "[CV] .................................. alpha=0.0184444444444 -   8.6s\n",
      "[CV] alpha=0.0186666666667 ...........................................\n",
      "[CV] .................................. alpha=0.0184444444444 -   9.3s\n",
      "[CV] alpha=0.0186666666667 ...........................................\n",
      "[CV] .................................. alpha=0.0186666666667 -   8.5s\n",
      "[CV] alpha=0.0186666666667 ...........................................\n",
      "[CV] .................................. alpha=0.0186666666667 -   8.9s\n",
      "[CV] alpha=0.0188888888889 ...........................................\n",
      "[CV] .................................. alpha=0.0186666666667 -   8.4s\n",
      "[CV] alpha=0.0188888888889 ...........................................\n",
      "[CV] .................................. alpha=0.0186666666667 -   8.2s\n",
      "[CV] alpha=0.0188888888889 ...........................................\n",
      "[CV] .................................. alpha=0.0186666666667 -   9.0s\n",
      "[CV] alpha=0.0188888888889 ...........................................\n",
      "[CV] .................................. alpha=0.0188888888889 -   9.1s\n",
      "[CV] alpha=0.0188888888889 ...........................................\n",
      "[CV] .................................. alpha=0.0188888888889 -   8.1s\n",
      "[CV] alpha=0.0191111111111 ...........................................\n",
      "[CV] .................................. alpha=0.0188888888889 -   9.3s\n",
      "[CV] alpha=0.0191111111111 ...........................................\n",
      "[CV] .................................. alpha=0.0188888888889 -   9.6s\n",
      "[CV] alpha=0.0191111111111 ...........................................\n",
      "[CV] .................................. alpha=0.0188888888889 -   9.0s\n",
      "[CV] alpha=0.0191111111111 ...........................................\n",
      "[CV] .................................. alpha=0.0191111111111 -   8.9s\n",
      "[CV] alpha=0.0191111111111 ...........................................\n",
      "[CV] .................................. alpha=0.0191111111111 -   8.8s\n",
      "[CV] alpha=0.0193333333333 ...........................................\n",
      "[CV] .................................. alpha=0.0191111111111 -   8.2s\n",
      "[CV] alpha=0.0193333333333 ...........................................\n",
      "[CV] .................................. alpha=0.0191111111111 -   8.6s\n",
      "[CV] alpha=0.0193333333333 ...........................................\n",
      "[CV] .................................. alpha=0.0191111111111 -   8.2s\n",
      "[CV] alpha=0.0193333333333 ...........................................\n",
      "[CV] .................................. alpha=0.0193333333333 -   8.6s\n",
      "[CV] alpha=0.0193333333333 ...........................................\n",
      "[CV] .................................. alpha=0.0193333333333 -   8.6s\n",
      "[CV] alpha=0.0195555555556 ...........................................\n",
      "[CV] .................................. alpha=0.0193333333333 -   8.4s\n",
      "[CV] alpha=0.0195555555556 ...........................................\n"
     ]
    },
    {
     "name": "stderr",
     "output_type": "stream",
     "text": [
      "[Parallel(n_jobs=4)]: Done  33 tasks      | elapsed:  1.3min\n"
     ]
    },
    {
     "name": "stdout",
     "output_type": "stream",
     "text": [
      "[CV] .................................. alpha=0.0193333333333 -   9.0s\n",
      "[CV] alpha=0.0195555555556 ...........................................\n",
      "[CV] .................................. alpha=0.0193333333333 -   8.5s\n",
      "[CV] alpha=0.0195555555556 ...........................................\n",
      "[CV] .................................. alpha=0.0195555555556 -   8.4s\n",
      "[CV] alpha=0.0195555555556 ...........................................\n",
      "[CV] .................................. alpha=0.0195555555556 -   8.5s\n",
      "[CV] alpha=0.0197777777778 ...........................................\n",
      "[CV] .................................. alpha=0.0195555555556 -   7.9s\n",
      "[CV] alpha=0.0197777777778 ...........................................\n",
      "[CV] .................................. alpha=0.0195555555556 -   8.6s\n",
      "[CV] alpha=0.0197777777778 ...........................................\n",
      "[CV] .................................. alpha=0.0195555555556 -   8.4s\n",
      "[CV] alpha=0.0197777777778 ...........................................\n",
      "[CV] .................................. alpha=0.0197777777778 -   8.3s\n",
      "[CV] alpha=0.0197777777778 ...........................................\n",
      "[CV] .................................. alpha=0.0197777777778 -   8.9s\n",
      "[CV] alpha=0.02 ......................................................\n",
      "[CV] .................................. alpha=0.0197777777778 -   7.8s\n",
      "[CV] alpha=0.02 ......................................................\n",
      "[CV] .................................. alpha=0.0197777777778 -   8.5s\n",
      "[CV] alpha=0.02 ......................................................\n",
      "[CV] .................................. alpha=0.0197777777778 -   8.3s\n",
      "[CV] alpha=0.02 ......................................................\n",
      "[CV] ............................................. alpha=0.02 -   8.4s\n",
      "[CV] alpha=0.02 ......................................................\n",
      "[CV] ............................................. alpha=0.02 -   8.6s\n",
      "[CV] ............................................. alpha=0.02 -   7.9s\n",
      "[CV] ............................................. alpha=0.02 -   5.8s\n",
      "[CV] ............................................. alpha=0.02 -   5.5s\n"
     ]
    },
    {
     "name": "stderr",
     "output_type": "stream",
     "text": [
      "[Parallel(n_jobs=4)]: Done  50 out of  50 | elapsed:  1.8min finished\n"
     ]
    },
    {
     "name": "stdout",
     "output_type": "stream",
     "text": [
      "{'alpha': 0.01822222222222222}\n",
      "-0.259375626429\n"
     ]
    }
   ],
   "source": [
    "# Lasso\n",
    "param_grid = {\n",
    " 'alpha':np.linspace(0.018,0.02, 10)\n",
    "}\n",
    "\n",
    "grid_search = GridSearchCV(Lasso(),param_grid=param_grid,cv=5, verbose=2,n_jobs =4,\n",
    "                          scoring=score,error_score=0,refit=True)\n",
    "grid_search.fit(X_train, y)\n",
    "print grid_search.best_params_\n",
    "print grid_search.best_score_"
   ]
  },
  {
   "cell_type": "markdown",
   "metadata": {},
   "source": [
    "##### 模型２Lasso(0.0182):0.259375626429"
   ]
  },
  {
   "cell_type": "markdown",
   "metadata": {},
   "source": [
    "#### 尝试ｘｇｂｏｏｓｔ"
   ]
  },
  {
   "cell_type": "code",
   "execution_count": 5,
   "metadata": {
    "collapsed": false
   },
   "outputs": [
    {
     "name": "stdout",
     "output_type": "stream",
     "text": [
      "[CV]  ................................................................\n",
      "[CV] ................................................. , total=  38.5s\n",
      "[CV]  ................................................................\n"
     ]
    },
    {
     "name": "stderr",
     "output_type": "stream",
     "text": [
      "[Parallel(n_jobs=1)]: Done   1 out of   1 | elapsed:   38.5s remaining:    0.0s\n"
     ]
    },
    {
     "name": "stdout",
     "output_type": "stream",
     "text": [
      "[CV] ................................................. , total=  22.3s\n",
      "[CV]  ................................................................\n",
      "[CV] ................................................. , total=  36.7s\n",
      "[CV]  ................................................................\n",
      "[CV] ................................................. , total=  28.4s\n",
      "[CV]  ................................................................\n",
      "[CV] ................................................. , total=  44.0s\n",
      "[CV]  ................................................................\n",
      "[CV] ................................................. , total= 1.2min\n",
      "[CV]  ................................................................\n",
      "[CV] ................................................. , total=  43.0s\n",
      "[CV]  ................................................................\n",
      "[CV] ................................................. , total=  38.1s\n",
      "[CV]  ................................................................\n",
      "[CV] ................................................. , total=  35.8s\n",
      "[CV]  ................................................................\n",
      "[CV] ................................................. , total=  36.0s\n",
      "[-0.25288691 -0.25552983 -0.25303579 -0.33545167 -0.33789601 -0.22260081\n",
      " -0.22165894 -0.24172606 -0.24010769 -0.23125585]\n"
     ]
    },
    {
     "name": "stderr",
     "output_type": "stream",
     "text": [
      "[Parallel(n_jobs=1)]: Done  10 out of  10 | elapsed:  6.6min finished\n"
     ]
    }
   ],
   "source": [
    "import xgboost as xgb\n",
    "\n",
    "regr = xgb.XGBRegressor(\n",
    "                 colsample_bytree=0.2,\n",
    "                 gamma=0.0,\n",
    "                 learning_rate=0.05,\n",
    "                 max_depth=4,\n",
    "                 min_child_weight=1.5,\n",
    "                 n_estimators=3000,                                                                  \n",
    "                 reg_alpha=0.9,\n",
    "                 reg_lambda=0.6,\n",
    "                 subsample=0.2,\n",
    "                 seed=42,\n",
    "                 silent=1)\n",
    "\n",
    "est_score = cross_val_score(regr, X_train, y, cv=10, scoring=score,verbose=2)\n",
    "print(test_score)"
   ]
  },
  {
   "cell_type": "code",
   "execution_count": 9,
   "metadata": {
    "collapsed": false
   },
   "outputs": [
    {
     "name": "stdout",
     "output_type": "stream",
     "text": [
      "-0.268610506067\n"
     ]
    }
   ],
   "source": [
    "print(np.mean(est_score))"
   ]
  },
  {
   "cell_type": "markdown",
   "metadata": {},
   "source": [
    "## 尝试随机森林，极端随机树"
   ]
  },
  {
   "cell_type": "code",
   "execution_count": 14,
   "metadata": {
    "collapsed": false
   },
   "outputs": [],
   "source": [
    "from sklearn.ensemble import RandomForestRegressor\n",
    "from sklearn.ensemble import ExtraTreesRegressor\n",
    "rfr = RandomForestRegressor(n_estimators=800, max_depth=None, min_samples_leaf=1, random_state=0,n_jobs=-1)\n",
    "er = ExtraTreesRegressor(n_estimators=800, max_depth=None, min_samples_leaf=1, random_state=0,n_jobs=-1)"
   ]
  },
  {
   "cell_type": "code",
   "execution_count": 15,
   "metadata": {
    "collapsed": false
   },
   "outputs": [
    {
     "name": "stdout",
     "output_type": "stream",
     "text": [
      "[CV]  ................................................................\n",
      "[CV] ................................................. , total= 1.8min\n",
      "[CV]  ................................................................\n"
     ]
    },
    {
     "name": "stderr",
     "output_type": "stream",
     "text": [
      "[Parallel(n_jobs=1)]: Done   1 out of   1 | elapsed:  1.8min remaining:    0.0s\n"
     ]
    },
    {
     "name": "stdout",
     "output_type": "stream",
     "text": [
      "[CV] ................................................. , total= 1.8min\n",
      "[CV]  ................................................................\n",
      "[CV] ................................................. , total= 1.8min\n",
      "[CV]  ................................................................\n",
      "[CV] ................................................. , total= 1.8min\n",
      "[CV]  ................................................................\n",
      "[CV] ................................................. , total= 1.8min\n",
      "[CV]  ................................................................\n",
      "[CV] ................................................. , total= 1.7min\n",
      "[CV]  ................................................................\n",
      "[CV] ................................................. , total= 1.8min\n",
      "[CV]  ................................................................\n",
      "[CV] ................................................. , total= 1.7min\n",
      "[CV]  ................................................................\n",
      "[CV] ................................................. , total= 2.0min\n",
      "[CV]  ................................................................\n",
      "[CV] ................................................. , total= 2.0min\n",
      "-0.280003032485\n"
     ]
    },
    {
     "name": "stderr",
     "output_type": "stream",
     "text": [
      "[Parallel(n_jobs=1)]: Done  10 out of  10 | elapsed: 18.2min finished\n"
     ]
    }
   ],
   "source": [
    "test_score = cross_val_score(rfr, X_train, y, cv=10, scoring=score,verbose=2)\n",
    "print(np.mean(test_score))"
   ]
  },
  {
   "cell_type": "code",
   "execution_count": 16,
   "metadata": {
    "collapsed": false
   },
   "outputs": [
    {
     "name": "stdout",
     "output_type": "stream",
     "text": [
      "[CV]  ................................................................\n",
      "[CV] ................................................. , total= 3.1min\n",
      "[CV]  ................................................................\n"
     ]
    },
    {
     "name": "stderr",
     "output_type": "stream",
     "text": [
      "[Parallel(n_jobs=1)]: Done   1 out of   1 | elapsed:  3.1min remaining:    0.0s\n"
     ]
    },
    {
     "name": "stdout",
     "output_type": "stream",
     "text": [
      "[CV] ................................................. , total= 2.9min\n",
      "[CV]  ................................................................\n",
      "[CV] ................................................. , total= 3.0min\n",
      "[CV]  ................................................................\n",
      "[CV] ................................................. , total= 2.7min\n",
      "[CV]  ................................................................\n",
      "[CV] ................................................. , total= 2.8min\n",
      "[CV]  ................................................................\n",
      "[CV] ................................................. , total= 2.5min\n",
      "[CV]  ................................................................\n",
      "[CV] ................................................. , total= 2.9min\n",
      "[CV]  ................................................................\n",
      "[CV] ................................................. , total= 2.9min\n",
      "[CV]  ................................................................\n",
      "[CV] ................................................. , total= 2.5min\n",
      "[CV]  ................................................................\n",
      "[CV] ................................................. , total= 2.4min\n",
      "-0.286545789577\n"
     ]
    },
    {
     "name": "stderr",
     "output_type": "stream",
     "text": [
      "[Parallel(n_jobs=1)]: Done  10 out of  10 | elapsed: 27.7min finished\n"
     ]
    }
   ],
   "source": [
    "test_score = cross_val_score(er, X_train, y, cv=10, scoring=score,verbose=2)\n",
    "print(np.mean(test_score))"
   ]
  },
  {
   "cell_type": "code",
   "execution_count": 18,
   "metadata": {
    "collapsed": false
   },
   "outputs": [],
   "source": [
    "r = Ridge(76.66)\n",
    "r.fit(X_train, y)\n",
    "test = pd.read_csv('dataSets/big_testset_task1.csv').set_index(['intersection_id','tollgate_id','time_window'])\n",
    "test['avg_travel_time'] = r.predict(X_test)\n",
    "test['avg_travel_time'].to_csv('ridge.csv',index = True)"
   ]
  },
  {
   "cell_type": "code",
   "execution_count": 20,
   "metadata": {
    "collapsed": false
   },
   "outputs": [],
   "source": [
    "test['avg_travel_time'].reset_index().to_csv('ridge.csv',index = False)"
   ]
  },
  {
   "cell_type": "markdown",
   "metadata": {},
   "source": [
    "## task2"
   ]
  },
  {
   "cell_type": "code",
   "execution_count": 21,
   "metadata": {
    "collapsed": true
   },
   "outputs": [],
   "source": [
    "train = pd.read_csv('dataSets/big_trainset_task2.csv').set_index(['tollgate_id','time_window','direction'])\n",
    "test = pd.read_csv('dataSets/big_testset_task2.csv').set_index(['tollgate_id','time_window','direction'])\n",
    "\n",
    "X_train = train.drop('volume',axis=1).values\n",
    "X_test = test.drop('volume',axis=1).values\n",
    "y = train.volume.values"
   ]
  },
  {
   "cell_type": "code",
   "execution_count": 26,
   "metadata": {
    "collapsed": true
   },
   "outputs": [],
   "source": [
    "LR.fit(X_train, y)\n",
    "test['volume'] = LR.predict(X_test)\n",
    "test['volume'].reset_index().to_csv('LRtask2.csv',index = False)"
   ]
  },
  {
   "cell_type": "code",
   "execution_count": null,
   "metadata": {
    "collapsed": true
   },
   "outputs": [],
   "source": []
  }
 ],
 "metadata": {
  "kernelspec": {
   "display_name": "Python 2",
   "language": "python",
   "name": "python2"
  },
  "language_info": {
   "codemirror_mode": {
    "name": "ipython",
    "version": 2
   },
   "file_extension": ".py",
   "mimetype": "text/x-python",
   "name": "python",
   "nbconvert_exporter": "python",
   "pygments_lexer": "ipython2",
   "version": "2.7.12"
  }
 },
 "nbformat": 4,
 "nbformat_minor": 2
}
